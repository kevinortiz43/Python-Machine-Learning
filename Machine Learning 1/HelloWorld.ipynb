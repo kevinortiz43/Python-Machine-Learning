{
 "cells": [
  {
   "cell_type": "code",
   "execution_count": 2,
   "id": "f5f43546-b296-4c43-abf9-eb6091363d6c",
   "metadata": {},
   "outputs": [],
   "source": [
    "# import pandas as pd\n",
    "# df = pd.read_csv('vgsales.csv')\n",
    "# df.describe()\n",
    "import tensorflow as tf"
   ]
  },
  {
   "cell_type": "code",
   "execution_count": 3,
   "id": "f13e8ce2",
   "metadata": {},
   "outputs": [],
   "source": [
    "import pandas as pd\n",
    "from sklearn.tree import DecisionTreeClassifier\n",
    "from sklearn.model_selection import train_test_split\n",
    "from sklearn.metrics import accuracy_score\n",
    "import joblib\n",
    "\n",
    "# music_data = pd.read_csv('music.csv')\n",
    "# x =music_data.drop(columns=['genre'])\n",
    "# y = music_data['genre']\n",
    "# x_train,x_test,y_train,y_test = train_test_split(x, y, test_size=0.2)\n",
    "\n",
    "# model = DecisionTreeClassifier()\n",
    "# model.fit(x_train, y_train)\n",
    "# predictions = model.predict(x_test)\n",
    "\n",
    "# accuracy_score(y_test, predictions)\n",
    "\n",
    "# score=accuracy_score(y_test, predictions)\n",
    "# score\n",
    "\n",
    "# model = joblib.dump('vgsales.csv','music-recommender.joblib') \n",
    "# predictions = model.predict([[21,1]])\n",
    "# predictions"
   ]
  },
  {
   "cell_type": "code",
   "execution_count": 4,
   "id": "4766e306",
   "metadata": {},
   "outputs": [],
   "source": [
    "import pandas as pd\n",
    "from sklearn.tree import DecisionTreeClassifier\n",
    "from sklearn import tree\n",
    "\n",
    "\n",
    "music_data = pd.read_csv('music.csv')\n",
    "x =music_data.drop(columns=['genre'])\n",
    "y = music_data['genre']\n",
    "\n",
    "\n",
    "model = DecisionTreeClassifier()\n",
    "model.fit(x.values, y)\n",
    "\n",
    "tree.export_graphviz(model, out_file='music.dot', feature_names=['age', 'gender'], class_names=sorted(y.unique()), label='all', rounded=True, filled=True)\n"
   ]
  }
 ],
 "metadata": {
  "kernelspec": {
   "display_name": "Python 3 (ipykernel)",
   "language": "python",
   "name": "python3"
  },
  "language_info": {
   "codemirror_mode": {
    "name": "ipython",
    "version": 3
   },
   "file_extension": ".py",
   "mimetype": "text/x-python",
   "name": "python",
   "nbconvert_exporter": "python",
   "pygments_lexer": "ipython3",
   "version": "3.11.7"
  }
 },
 "nbformat": 4,
 "nbformat_minor": 5
}
