{
 "cells": [
  {
   "cell_type": "code",
   "execution_count": 52,
   "id": "f5f43546-b296-4c43-abf9-eb6091363d6c",
   "metadata": {},
   "outputs": [],
   "source": [
    "# import pandas as pd\n",
    "# df = pd.read_csv('vgsales.csv')\n",
    "# df.describe()"
   ]
  },
  {
   "cell_type": "code",
   "execution_count": 57,
   "id": "f13e8ce2",
   "metadata": {},
   "outputs": [
    {
     "ename": "AttributeError",
     "evalue": "'list' object has no attribute 'predict'",
     "output_type": "error",
     "traceback": [
      "\u001b[1;31m---------------------------------------------------------------------------\u001b[0m",
      "\u001b[1;31mAttributeError\u001b[0m                            Traceback (most recent call last)",
      "Cell \u001b[1;32mIn[57], line 22\u001b[0m\n\u001b[0;32m      7\u001b[0m \u001b[38;5;66;03m# music_data = pd.read_csv('music.csv')\u001b[39;00m\n\u001b[0;32m      8\u001b[0m \u001b[38;5;66;03m# x =music_data.drop(columns=['genre'])\u001b[39;00m\n\u001b[0;32m      9\u001b[0m \u001b[38;5;66;03m# y = music_data['genre']\u001b[39;00m\n\u001b[1;32m   (...)\u001b[0m\n\u001b[0;32m     18\u001b[0m \u001b[38;5;66;03m# score=accuracy_score(y_test, predictions)\u001b[39;00m\n\u001b[0;32m     19\u001b[0m \u001b[38;5;66;03m# score\u001b[39;00m\n\u001b[0;32m     21\u001b[0m model \u001b[38;5;241m=\u001b[39m joblib\u001b[38;5;241m.\u001b[39mdump(\u001b[38;5;124m'\u001b[39m\u001b[38;5;124mvgsales.csv\u001b[39m\u001b[38;5;124m'\u001b[39m,\u001b[38;5;124m'\u001b[39m\u001b[38;5;124mmusic-recommender.joblib\u001b[39m\u001b[38;5;124m'\u001b[39m) \n\u001b[1;32m---> 22\u001b[0m predictions \u001b[38;5;241m=\u001b[39m model\u001b[38;5;241m.\u001b[39mpredict([[\u001b[38;5;241m21\u001b[39m,\u001b[38;5;241m1\u001b[39m]])\n\u001b[0;32m     23\u001b[0m predictions\n",
      "\u001b[1;31mAttributeError\u001b[0m: 'list' object has no attribute 'predict'"
     ]
    }
   ],
   "source": [
    "import pandas as pd\n",
    "from sklearn.tree import DecisionTreeClassifier\n",
    "from sklearn.model_selection import train_test_split\n",
    "from sklearn.metrics import accuracy_score\n",
    "import joblib\n",
    "\n",
    "# music_data = pd.read_csv('music.csv')\n",
    "# x =music_data.drop(columns=['genre'])\n",
    "# y = music_data['genre']\n",
    "# x_train,x_test,y_train,y_test = train_test_split(x, y, test_size=0.2)\n",
    "\n",
    "# model = DecisionTreeClassifier()\n",
    "# model.fit(x_train, y_train)\n",
    "# predictions = model.predict(x_test)\n",
    "\n",
    "# accuracy_score(y_test, predictions)\n",
    "\n",
    "# score=accuracy_score(y_test, predictions)\n",
    "# score\n",
    "\n",
    "# model = joblib.dump('vgsales.csv','music-recommender.joblib') \n",
    "# predictions = model.predict([[21,1]])\n",
    "# predictions"
   ]
  },
  {
   "cell_type": "code",
   "execution_count": 1,
   "id": "4766e306",
   "metadata": {},
   "outputs": [],
   "source": [
    "import pandas as pd\n",
    "from sklearn.tree import DecisionTreeClassifier\n",
    "from sklearn import tree\n",
    "\n",
    "\n",
    "music_data = pd.read_csv('music.csv')\n",
    "x =music_data.drop(columns=['genre'])\n",
    "y = music_data['genre']\n",
    "\n",
    "\n",
    "model = DecisionTreeClassifier()\n",
    "model.fit(x.values, y)\n",
    "\n",
    "tree.export_graphviz(model, out_file='music.dot', feature_names=['age', 'gender'], class_names=sorted(y.unique()), label='all', rounded=True, filled=True)\n"
   ]
  }
 ],
 "metadata": {
  "kernelspec": {
   "display_name": "Python 3 (ipykernel)",
   "language": "python",
   "name": "python3"
  },
  "language_info": {
   "codemirror_mode": {
    "name": "ipython",
    "version": 3
   },
   "file_extension": ".py",
   "mimetype": "text/x-python",
   "name": "python",
   "nbconvert_exporter": "python",
   "pygments_lexer": "ipython3",
   "version": "3.11.7"
  }
 },
 "nbformat": 4,
 "nbformat_minor": 5
}
